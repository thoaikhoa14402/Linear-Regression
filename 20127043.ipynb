{
 "cells": [
  {
   "cell_type": "markdown",
   "metadata": {},
   "source": [
    "# <center>Đồ án 3: Linear Regression</center>"
   ]
  },
  {
   "cell_type": "markdown",
   "metadata": {},
   "source": [
    "# Thông tin sinh viên\n",
    "\n",
    "- Họ và tên: Nguyễn Thoại Đăng Khoa\n",
    "- MSSV: 20127043\n",
    "- Lớp: 20CLC08"
   ]
  },
  {
   "cell_type": "markdown",
   "metadata": {},
   "source": [
    "# Import"
   ]
  },
  {
   "cell_type": "code",
   "execution_count": 1,
   "metadata": {},
   "outputs": [],
   "source": [
    "import pandas as pd\n",
    "import numpy as np\n",
    "import copy\n",
    "\n",
    "# Import thêm dữ thư viện nếu cần"
   ]
  },
  {
   "cell_type": "markdown",
   "metadata": {},
   "source": [
    "# Đọc dữ liệu"
   ]
  },
  {
   "cell_type": "code",
   "execution_count": 2,
   "metadata": {},
   "outputs": [
    {
     "ename": "FileNotFoundError",
     "evalue": "[Errno 2] No such file or directory: 'train.csv'",
     "output_type": "error",
     "traceback": [
      "\u001b[1;31m---------------------------------------------------------------------------\u001b[0m",
      "\u001b[1;31mFileNotFoundError\u001b[0m                         Traceback (most recent call last)",
      "Input \u001b[1;32mIn [2]\u001b[0m, in \u001b[0;36m<cell line: 2>\u001b[1;34m()\u001b[0m\n\u001b[0;32m      1\u001b[0m \u001b[38;5;66;03m# Đọc dữ liệu bằng pandas\u001b[39;00m\n\u001b[1;32m----> 2\u001b[0m train \u001b[38;5;241m=\u001b[39m \u001b[43mpd\u001b[49m\u001b[38;5;241;43m.\u001b[39;49m\u001b[43mread_csv\u001b[49m\u001b[43m(\u001b[49m\u001b[38;5;124;43m'\u001b[39;49m\u001b[38;5;124;43mtrain.csv\u001b[39;49m\u001b[38;5;124;43m'\u001b[39;49m\u001b[43m)\u001b[49m\n\u001b[0;32m      3\u001b[0m test \u001b[38;5;241m=\u001b[39m pd\u001b[38;5;241m.\u001b[39mread_csv(\u001b[38;5;124m'\u001b[39m\u001b[38;5;124mtest.csv\u001b[39m\u001b[38;5;124m'\u001b[39m)\n\u001b[0;32m      5\u001b[0m \u001b[38;5;66;03m# Lấy các đặc trưng X và giá trị mục tiêu y cho các tập huấn luyện (train) và kiểm tra (test)\u001b[39;00m\n",
      "File \u001b[1;32m~\\anaconda3\\lib\\site-packages\\pandas\\util\\_decorators.py:311\u001b[0m, in \u001b[0;36mdeprecate_nonkeyword_arguments.<locals>.decorate.<locals>.wrapper\u001b[1;34m(*args, **kwargs)\u001b[0m\n\u001b[0;32m    305\u001b[0m \u001b[38;5;28;01mif\u001b[39;00m \u001b[38;5;28mlen\u001b[39m(args) \u001b[38;5;241m>\u001b[39m num_allow_args:\n\u001b[0;32m    306\u001b[0m     warnings\u001b[38;5;241m.\u001b[39mwarn(\n\u001b[0;32m    307\u001b[0m         msg\u001b[38;5;241m.\u001b[39mformat(arguments\u001b[38;5;241m=\u001b[39marguments),\n\u001b[0;32m    308\u001b[0m         \u001b[38;5;167;01mFutureWarning\u001b[39;00m,\n\u001b[0;32m    309\u001b[0m         stacklevel\u001b[38;5;241m=\u001b[39mstacklevel,\n\u001b[0;32m    310\u001b[0m     )\n\u001b[1;32m--> 311\u001b[0m \u001b[38;5;28;01mreturn\u001b[39;00m func(\u001b[38;5;241m*\u001b[39margs, \u001b[38;5;241m*\u001b[39m\u001b[38;5;241m*\u001b[39mkwargs)\n",
      "File \u001b[1;32m~\\anaconda3\\lib\\site-packages\\pandas\\io\\parsers\\readers.py:680\u001b[0m, in \u001b[0;36mread_csv\u001b[1;34m(filepath_or_buffer, sep, delimiter, header, names, index_col, usecols, squeeze, prefix, mangle_dupe_cols, dtype, engine, converters, true_values, false_values, skipinitialspace, skiprows, skipfooter, nrows, na_values, keep_default_na, na_filter, verbose, skip_blank_lines, parse_dates, infer_datetime_format, keep_date_col, date_parser, dayfirst, cache_dates, iterator, chunksize, compression, thousands, decimal, lineterminator, quotechar, quoting, doublequote, escapechar, comment, encoding, encoding_errors, dialect, error_bad_lines, warn_bad_lines, on_bad_lines, delim_whitespace, low_memory, memory_map, float_precision, storage_options)\u001b[0m\n\u001b[0;32m    665\u001b[0m kwds_defaults \u001b[38;5;241m=\u001b[39m _refine_defaults_read(\n\u001b[0;32m    666\u001b[0m     dialect,\n\u001b[0;32m    667\u001b[0m     delimiter,\n\u001b[1;32m   (...)\u001b[0m\n\u001b[0;32m    676\u001b[0m     defaults\u001b[38;5;241m=\u001b[39m{\u001b[38;5;124m\"\u001b[39m\u001b[38;5;124mdelimiter\u001b[39m\u001b[38;5;124m\"\u001b[39m: \u001b[38;5;124m\"\u001b[39m\u001b[38;5;124m,\u001b[39m\u001b[38;5;124m\"\u001b[39m},\n\u001b[0;32m    677\u001b[0m )\n\u001b[0;32m    678\u001b[0m kwds\u001b[38;5;241m.\u001b[39mupdate(kwds_defaults)\n\u001b[1;32m--> 680\u001b[0m \u001b[38;5;28;01mreturn\u001b[39;00m \u001b[43m_read\u001b[49m\u001b[43m(\u001b[49m\u001b[43mfilepath_or_buffer\u001b[49m\u001b[43m,\u001b[49m\u001b[43m \u001b[49m\u001b[43mkwds\u001b[49m\u001b[43m)\u001b[49m\n",
      "File \u001b[1;32m~\\anaconda3\\lib\\site-packages\\pandas\\io\\parsers\\readers.py:575\u001b[0m, in \u001b[0;36m_read\u001b[1;34m(filepath_or_buffer, kwds)\u001b[0m\n\u001b[0;32m    572\u001b[0m _validate_names(kwds\u001b[38;5;241m.\u001b[39mget(\u001b[38;5;124m\"\u001b[39m\u001b[38;5;124mnames\u001b[39m\u001b[38;5;124m\"\u001b[39m, \u001b[38;5;28;01mNone\u001b[39;00m))\n\u001b[0;32m    574\u001b[0m \u001b[38;5;66;03m# Create the parser.\u001b[39;00m\n\u001b[1;32m--> 575\u001b[0m parser \u001b[38;5;241m=\u001b[39m TextFileReader(filepath_or_buffer, \u001b[38;5;241m*\u001b[39m\u001b[38;5;241m*\u001b[39mkwds)\n\u001b[0;32m    577\u001b[0m \u001b[38;5;28;01mif\u001b[39;00m chunksize \u001b[38;5;129;01mor\u001b[39;00m iterator:\n\u001b[0;32m    578\u001b[0m     \u001b[38;5;28;01mreturn\u001b[39;00m parser\n",
      "File \u001b[1;32m~\\anaconda3\\lib\\site-packages\\pandas\\io\\parsers\\readers.py:933\u001b[0m, in \u001b[0;36mTextFileReader.__init__\u001b[1;34m(self, f, engine, **kwds)\u001b[0m\n\u001b[0;32m    930\u001b[0m     \u001b[38;5;28mself\u001b[39m\u001b[38;5;241m.\u001b[39moptions[\u001b[38;5;124m\"\u001b[39m\u001b[38;5;124mhas_index_names\u001b[39m\u001b[38;5;124m\"\u001b[39m] \u001b[38;5;241m=\u001b[39m kwds[\u001b[38;5;124m\"\u001b[39m\u001b[38;5;124mhas_index_names\u001b[39m\u001b[38;5;124m\"\u001b[39m]\n\u001b[0;32m    932\u001b[0m \u001b[38;5;28mself\u001b[39m\u001b[38;5;241m.\u001b[39mhandles: IOHandles \u001b[38;5;241m|\u001b[39m \u001b[38;5;28;01mNone\u001b[39;00m \u001b[38;5;241m=\u001b[39m \u001b[38;5;28;01mNone\u001b[39;00m\n\u001b[1;32m--> 933\u001b[0m \u001b[38;5;28mself\u001b[39m\u001b[38;5;241m.\u001b[39m_engine \u001b[38;5;241m=\u001b[39m \u001b[38;5;28;43mself\u001b[39;49m\u001b[38;5;241;43m.\u001b[39;49m\u001b[43m_make_engine\u001b[49m\u001b[43m(\u001b[49m\u001b[43mf\u001b[49m\u001b[43m,\u001b[49m\u001b[43m \u001b[49m\u001b[38;5;28;43mself\u001b[39;49m\u001b[38;5;241;43m.\u001b[39;49m\u001b[43mengine\u001b[49m\u001b[43m)\u001b[49m\n",
      "File \u001b[1;32m~\\anaconda3\\lib\\site-packages\\pandas\\io\\parsers\\readers.py:1217\u001b[0m, in \u001b[0;36mTextFileReader._make_engine\u001b[1;34m(self, f, engine)\u001b[0m\n\u001b[0;32m   1213\u001b[0m     mode \u001b[38;5;241m=\u001b[39m \u001b[38;5;124m\"\u001b[39m\u001b[38;5;124mrb\u001b[39m\u001b[38;5;124m\"\u001b[39m\n\u001b[0;32m   1214\u001b[0m \u001b[38;5;66;03m# error: No overload variant of \"get_handle\" matches argument types\u001b[39;00m\n\u001b[0;32m   1215\u001b[0m \u001b[38;5;66;03m# \"Union[str, PathLike[str], ReadCsvBuffer[bytes], ReadCsvBuffer[str]]\"\u001b[39;00m\n\u001b[0;32m   1216\u001b[0m \u001b[38;5;66;03m# , \"str\", \"bool\", \"Any\", \"Any\", \"Any\", \"Any\", \"Any\"\u001b[39;00m\n\u001b[1;32m-> 1217\u001b[0m \u001b[38;5;28mself\u001b[39m\u001b[38;5;241m.\u001b[39mhandles \u001b[38;5;241m=\u001b[39m \u001b[43mget_handle\u001b[49m\u001b[43m(\u001b[49m\u001b[43m  \u001b[49m\u001b[38;5;66;43;03m# type: ignore[call-overload]\u001b[39;49;00m\n\u001b[0;32m   1218\u001b[0m \u001b[43m    \u001b[49m\u001b[43mf\u001b[49m\u001b[43m,\u001b[49m\n\u001b[0;32m   1219\u001b[0m \u001b[43m    \u001b[49m\u001b[43mmode\u001b[49m\u001b[43m,\u001b[49m\n\u001b[0;32m   1220\u001b[0m \u001b[43m    \u001b[49m\u001b[43mencoding\u001b[49m\u001b[38;5;241;43m=\u001b[39;49m\u001b[38;5;28;43mself\u001b[39;49m\u001b[38;5;241;43m.\u001b[39;49m\u001b[43moptions\u001b[49m\u001b[38;5;241;43m.\u001b[39;49m\u001b[43mget\u001b[49m\u001b[43m(\u001b[49m\u001b[38;5;124;43m\"\u001b[39;49m\u001b[38;5;124;43mencoding\u001b[39;49m\u001b[38;5;124;43m\"\u001b[39;49m\u001b[43m,\u001b[49m\u001b[43m \u001b[49m\u001b[38;5;28;43;01mNone\u001b[39;49;00m\u001b[43m)\u001b[49m\u001b[43m,\u001b[49m\n\u001b[0;32m   1221\u001b[0m \u001b[43m    \u001b[49m\u001b[43mcompression\u001b[49m\u001b[38;5;241;43m=\u001b[39;49m\u001b[38;5;28;43mself\u001b[39;49m\u001b[38;5;241;43m.\u001b[39;49m\u001b[43moptions\u001b[49m\u001b[38;5;241;43m.\u001b[39;49m\u001b[43mget\u001b[49m\u001b[43m(\u001b[49m\u001b[38;5;124;43m\"\u001b[39;49m\u001b[38;5;124;43mcompression\u001b[39;49m\u001b[38;5;124;43m\"\u001b[39;49m\u001b[43m,\u001b[49m\u001b[43m \u001b[49m\u001b[38;5;28;43;01mNone\u001b[39;49;00m\u001b[43m)\u001b[49m\u001b[43m,\u001b[49m\n\u001b[0;32m   1222\u001b[0m \u001b[43m    \u001b[49m\u001b[43mmemory_map\u001b[49m\u001b[38;5;241;43m=\u001b[39;49m\u001b[38;5;28;43mself\u001b[39;49m\u001b[38;5;241;43m.\u001b[39;49m\u001b[43moptions\u001b[49m\u001b[38;5;241;43m.\u001b[39;49m\u001b[43mget\u001b[49m\u001b[43m(\u001b[49m\u001b[38;5;124;43m\"\u001b[39;49m\u001b[38;5;124;43mmemory_map\u001b[39;49m\u001b[38;5;124;43m\"\u001b[39;49m\u001b[43m,\u001b[49m\u001b[43m \u001b[49m\u001b[38;5;28;43;01mFalse\u001b[39;49;00m\u001b[43m)\u001b[49m\u001b[43m,\u001b[49m\n\u001b[0;32m   1223\u001b[0m \u001b[43m    \u001b[49m\u001b[43mis_text\u001b[49m\u001b[38;5;241;43m=\u001b[39;49m\u001b[43mis_text\u001b[49m\u001b[43m,\u001b[49m\n\u001b[0;32m   1224\u001b[0m \u001b[43m    \u001b[49m\u001b[43merrors\u001b[49m\u001b[38;5;241;43m=\u001b[39;49m\u001b[38;5;28;43mself\u001b[39;49m\u001b[38;5;241;43m.\u001b[39;49m\u001b[43moptions\u001b[49m\u001b[38;5;241;43m.\u001b[39;49m\u001b[43mget\u001b[49m\u001b[43m(\u001b[49m\u001b[38;5;124;43m\"\u001b[39;49m\u001b[38;5;124;43mencoding_errors\u001b[39;49m\u001b[38;5;124;43m\"\u001b[39;49m\u001b[43m,\u001b[49m\u001b[43m \u001b[49m\u001b[38;5;124;43m\"\u001b[39;49m\u001b[38;5;124;43mstrict\u001b[39;49m\u001b[38;5;124;43m\"\u001b[39;49m\u001b[43m)\u001b[49m\u001b[43m,\u001b[49m\n\u001b[0;32m   1225\u001b[0m \u001b[43m    \u001b[49m\u001b[43mstorage_options\u001b[49m\u001b[38;5;241;43m=\u001b[39;49m\u001b[38;5;28;43mself\u001b[39;49m\u001b[38;5;241;43m.\u001b[39;49m\u001b[43moptions\u001b[49m\u001b[38;5;241;43m.\u001b[39;49m\u001b[43mget\u001b[49m\u001b[43m(\u001b[49m\u001b[38;5;124;43m\"\u001b[39;49m\u001b[38;5;124;43mstorage_options\u001b[39;49m\u001b[38;5;124;43m\"\u001b[39;49m\u001b[43m,\u001b[49m\u001b[43m \u001b[49m\u001b[38;5;28;43;01mNone\u001b[39;49;00m\u001b[43m)\u001b[49m\u001b[43m,\u001b[49m\n\u001b[0;32m   1226\u001b[0m \u001b[43m\u001b[49m\u001b[43m)\u001b[49m\n\u001b[0;32m   1227\u001b[0m \u001b[38;5;28;01massert\u001b[39;00m \u001b[38;5;28mself\u001b[39m\u001b[38;5;241m.\u001b[39mhandles \u001b[38;5;129;01mis\u001b[39;00m \u001b[38;5;129;01mnot\u001b[39;00m \u001b[38;5;28;01mNone\u001b[39;00m\n\u001b[0;32m   1228\u001b[0m f \u001b[38;5;241m=\u001b[39m \u001b[38;5;28mself\u001b[39m\u001b[38;5;241m.\u001b[39mhandles\u001b[38;5;241m.\u001b[39mhandle\n",
      "File \u001b[1;32m~\\anaconda3\\lib\\site-packages\\pandas\\io\\common.py:789\u001b[0m, in \u001b[0;36mget_handle\u001b[1;34m(path_or_buf, mode, encoding, compression, memory_map, is_text, errors, storage_options)\u001b[0m\n\u001b[0;32m    784\u001b[0m \u001b[38;5;28;01melif\u001b[39;00m \u001b[38;5;28misinstance\u001b[39m(handle, \u001b[38;5;28mstr\u001b[39m):\n\u001b[0;32m    785\u001b[0m     \u001b[38;5;66;03m# Check whether the filename is to be opened in binary mode.\u001b[39;00m\n\u001b[0;32m    786\u001b[0m     \u001b[38;5;66;03m# Binary mode does not support 'encoding' and 'newline'.\u001b[39;00m\n\u001b[0;32m    787\u001b[0m     \u001b[38;5;28;01mif\u001b[39;00m ioargs\u001b[38;5;241m.\u001b[39mencoding \u001b[38;5;129;01mand\u001b[39;00m \u001b[38;5;124m\"\u001b[39m\u001b[38;5;124mb\u001b[39m\u001b[38;5;124m\"\u001b[39m \u001b[38;5;129;01mnot\u001b[39;00m \u001b[38;5;129;01min\u001b[39;00m ioargs\u001b[38;5;241m.\u001b[39mmode:\n\u001b[0;32m    788\u001b[0m         \u001b[38;5;66;03m# Encoding\u001b[39;00m\n\u001b[1;32m--> 789\u001b[0m         handle \u001b[38;5;241m=\u001b[39m \u001b[38;5;28;43mopen\u001b[39;49m\u001b[43m(\u001b[49m\n\u001b[0;32m    790\u001b[0m \u001b[43m            \u001b[49m\u001b[43mhandle\u001b[49m\u001b[43m,\u001b[49m\n\u001b[0;32m    791\u001b[0m \u001b[43m            \u001b[49m\u001b[43mioargs\u001b[49m\u001b[38;5;241;43m.\u001b[39;49m\u001b[43mmode\u001b[49m\u001b[43m,\u001b[49m\n\u001b[0;32m    792\u001b[0m \u001b[43m            \u001b[49m\u001b[43mencoding\u001b[49m\u001b[38;5;241;43m=\u001b[39;49m\u001b[43mioargs\u001b[49m\u001b[38;5;241;43m.\u001b[39;49m\u001b[43mencoding\u001b[49m\u001b[43m,\u001b[49m\n\u001b[0;32m    793\u001b[0m \u001b[43m            \u001b[49m\u001b[43merrors\u001b[49m\u001b[38;5;241;43m=\u001b[39;49m\u001b[43merrors\u001b[49m\u001b[43m,\u001b[49m\n\u001b[0;32m    794\u001b[0m \u001b[43m            \u001b[49m\u001b[43mnewline\u001b[49m\u001b[38;5;241;43m=\u001b[39;49m\u001b[38;5;124;43m\"\u001b[39;49m\u001b[38;5;124;43m\"\u001b[39;49m\u001b[43m,\u001b[49m\n\u001b[0;32m    795\u001b[0m \u001b[43m        \u001b[49m\u001b[43m)\u001b[49m\n\u001b[0;32m    796\u001b[0m     \u001b[38;5;28;01melse\u001b[39;00m:\n\u001b[0;32m    797\u001b[0m         \u001b[38;5;66;03m# Binary mode\u001b[39;00m\n\u001b[0;32m    798\u001b[0m         handle \u001b[38;5;241m=\u001b[39m \u001b[38;5;28mopen\u001b[39m(handle, ioargs\u001b[38;5;241m.\u001b[39mmode)\n",
      "\u001b[1;31mFileNotFoundError\u001b[0m: [Errno 2] No such file or directory: 'train.csv'"
     ]
    }
   ],
   "source": [
    "# Đọc dữ liệu bằng pandas\n",
    "train = pd.read_csv('train.csv')\n",
    "test = pd.read_csv('test.csv')\n",
    "\n",
    "# Lấy các đặc trưng X và giá trị mục tiêu y cho các tập huấn luyện (train) và kiểm tra (test)\n",
    "X_train = train.iloc[:, :-1]    # Dataframe (chứa 10 đặc trưng huấn luyện)\n",
    "y_train = train.iloc[:, -1]     # Series    (chứa 1 giá trị mục tiêu kiểm tra)\n",
    "\n",
    "X_test = test.iloc[:, :-1]      # Dataframe (chứa 10 đặc trưng kiểm tra)\n",
    "y_test = test.iloc[:, -1]       # Series    (chứa 1 giá trị mục tiêu kiểm tra)\n",
    "\n",
    "# convert to numpy array\n",
    "X_train = X_train.to_numpy() \n",
    "y_train = y_train.to_numpy()\n",
    "X_test = X_test.to_numpy()\n",
    "y_test = y_test.to_numpy()\n",
    "\n",
    "# Sinh viên có thể sử dụng các khác nếu cần"
   ]
  },
  {
   "cell_type": "markdown",
   "metadata": {},
   "source": [
    "# Cài đặt hàm"
   ]
  },
  {
   "cell_type": "code",
   "execution_count": null,
   "metadata": {},
   "outputs": [],
   "source": [
    "# Cài đặt các hàm cần thiết ở đây\n",
    "class OLSLinearRegression:\n",
    "    def fit(self, X, y):\n",
    "        X_pinv = np.linalg.inv(X.T @ X) @ X.T    # np.linalg.pinv(X)\n",
    "        self.w = X_pinv @ y\n",
    "\n",
    "        return self\n",
    "\n",
    "\n",
    "    def get_params(self):\n",
    "        return self.w\n",
    "\n",
    "\n",
    "    def predict(self, X):\n",
    "        return np.sum(self.w.ravel() * X, axis=1)   \n",
    "\n",
    "# Cài đặt hàm RMSE\n",
    "def rmse(y, y_hat):\n",
    "    return np.sqrt(np.mean((y.ravel() - y_hat.ravel())**2))"
   ]
  },
  {
   "cell_type": "markdown",
   "metadata": {},
   "source": [
    "# Yêu cầu 1a: Sử dụng toàn bộ 10 đặc trưng đề bài cung cấp (2 điểm) "
   ]
  },
  {
   "cell_type": "code",
   "execution_count": null,
   "metadata": {},
   "outputs": [],
   "source": [
    "# Phần code cho yêu cầu 1a\n",
    "# init lr\n",
    "lr = OLSLinearRegression().fit(X_train, y_train)\n",
    "\n",
    "# print feature vector\n",
    "print(\"Feature vectors W: \", lr.get_params())\n",
    "\n",
    "# predict\n",
    "y_test_predict = lr.predict(X_test)\n",
    "\n",
    "# print result\n",
    "print('-------------------------------------------')\n",
    "prediction = pd.DataFrame({'Test': y_test, 'Predicted': y_test_predict})\n",
    "print(prediction)"
   ]
  },
  {
   "cell_type": "code",
   "execution_count": null,
   "metadata": {},
   "outputs": [],
   "source": [
    "# Gọi hàm RMSE (tự cài đặt hoặc từ thư viện) trên tập kiểm tra\n",
    "print(\"RMSE on all features model: \", rmse(y_test, y_test_predict))"
   ]
  },
  {
   "cell_type": "markdown",
   "metadata": {},
   "source": [
    "Công thức hồi quy\n",
    "\n",
    "$$\\text{Life expectancy} = 0.015101 * Adult Mortality + 0.090220 * BMI + 0.042922 * Polio + 0.139289 * Diphtheria - 0.567333 * HIV/AIDS - 0.000101 * GDP + 0.740713 * ThinnessAge(10-19) + 0.190936 * ThinessAge(5-9) + 24.505974 * IncomeCompositionOf Resources + 2.393517 * Schooling$$"
   ]
  },
  {
   "cell_type": "markdown",
   "metadata": {},
   "source": [
    "# Yêu cầu 1b: Xây dựng mô hình sử dụng duy nhất 1 đặc trưng, tìm mô hình cho kết quả tốt nhất (2 điểm)"
   ]
  },
  {
   "cell_type": "markdown",
   "metadata": {},
   "source": [
    "Lưu ý: khi sử dụng cross-validation, sinh viên cần xáo trộn dữ liệu 1 lần duy nhất và thực hiện trên toàn bộ đặc trưng"
   ]
  },
  {
   "cell_type": "code",
   "execution_count": null,
   "metadata": {},
   "outputs": [],
   "source": [
    "# Phần code cho yêu cầu 1b\n",
    "# Tìm ra đặc trưng tốt nhất\n",
    "# In ra các kết quả cross-validation như yêu cầu\n",
    "\n",
    "# make deep copy\n",
    "X_train_clone = copy.deepcopy(X_train)\n",
    "y_train_clone = copy.deepcopy(y_train)\n",
    "\n",
    "# shuffle dataset\n",
    "shuffler = np.random.permutation(len(X_train_clone))\n",
    "X_train_clone = X_train_clone[shuffler]\n",
    "y_train_clone  = y_train_clone[shuffler]\n",
    "\n",
    "cross = []\n",
    "list_of_column_names = list(train.columns) # array contains features name\n",
    "RMSE = np.zeros(10) #initialize RMSE array\n",
    "\n",
    "for i in range(0, 10):\n",
    "    X_train_feature = X_train_clone[:,i]\n",
    "    y_train_feature = y_train_clone.copy()\n",
    "    \n",
    "    for k in range(0, 5):\n",
    "        lr = OLSLinearRegression()\n",
    "        \n",
    "        # create test dataset\n",
    "        X_k_val = X_train_feature[217*k:217*k + 217]\n",
    "        y_k_val = y_train_feature[217*k:217*k + 217]\n",
    "        \n",
    "        # create training dataset\n",
    "        if(k == 0):  \n",
    "            X_k_train = X_train_feature[217:] # find x_k_train\n",
    "            y_k_train = y_train_feature[217:] # find y_k_train\n",
    "            \n",
    "        else: \n",
    "            # find x_k_train\n",
    "            X_k_train_1 = X_train_feature[0:217*k]\n",
    "            X_k_train_2 = X_train_feature[217*k + 217:]\n",
    "            X_k_train = np.concatenate((X_k_train_1,X_k_train_2), axis = 0)\n",
    "            \n",
    "            # find y_k_train\n",
    "            y_k_train_1 = y_train_feature[0:217*k]\n",
    "            y_k_train_2 = y_train_feature[217*k + 217:]\n",
    "            y_k_train = np.concatenate((y_k_train_1,y_k_train_2), axis = 0)\n",
    "            \n",
    "       # convert to 2d array\n",
    "        X_k_train = X_k_train.reshape(-1,1) \n",
    "        y_k_train = y_k_train.reshape(-1,1)\n",
    "        X_k_val = X_k_val.reshape(-1,1)\n",
    "        y_k_val = y_k_val.reshape(-1,1)\n",
    "        \n",
    "        # training\n",
    "        lr.fit(X_k_train, y_k_train)\n",
    "        # predict\n",
    "        y_k_val_pred = lr.predict(X_k_val)\n",
    "        RMSE[i] += rmse(y_k_val, y_k_val_pred)\n",
    "        \n",
    "    # calculate mean rmse i_th\n",
    "    RMSE[i] /= 5\n",
    "    cross.append([list_of_column_names[i],RMSE[i]])\n",
    "    \n",
    "\n",
    "# print cross validation    \n",
    "print(\"Cross-validation: \", RMSE)\n",
    "print(\"-----------------------------------------------------------------------------------------------\")\n",
    "\n",
    "# print report table\n",
    "prediction = pd.DataFrame(cross,columns=['Model with one feature','RMSE'])\n",
    "print(prediction)\n",
    "print(\"-----------------------------------------------------------------------------------------------\")\n",
    "\n",
    "# find the best feature\n",
    "RMSE = list(RMSE)\n",
    "min_rmse = min(RMSE) # get the minimum rmse value in the list\n",
    "\n",
    "# return the index of minimum rmse value \n",
    "min_index=RMSE.index(min_rmse)\n",
    "\n",
    "# print the best feature\n",
    "print(\"The best feature: \", list_of_column_names[min_index])"
   ]
  },
  {
   "cell_type": "code",
   "execution_count": null,
   "metadata": {},
   "outputs": [],
   "source": [
    "# Huấn luyện lại mô hình best_feature_model với đặc trưng tốt nhất trên toàn bộ tập huấn luyện\n",
    "X_train_best_feature = X_train[:,min_index].reshape(-1,1)\n",
    "lr = OLSLinearRegression().fit(X_train_best_feature, y_train)\n",
    "\n",
    "# print feature vector\n",
    "print(\"Feature vector W: \", lr.get_params())"
   ]
  },
  {
   "cell_type": "code",
   "execution_count": null,
   "metadata": {},
   "outputs": [],
   "source": [
    "# Gọi hàm RMSE (tự cài đặt hoặc từ thư viện) trên tập kiểm tra với mô hình best_feature_model\n",
    "X_test_best_feature = X_test[:,min_index].reshape(-1,1)\n",
    "y_test_predict_best_feature = lr.predict(X_test_best_feature)\n",
    "print(\"RMSE on best feature model: \", rmse(y_test, y_test_predict_best_feature))"
   ]
  },
  {
   "cell_type": "markdown",
   "metadata": {},
   "source": [
    "Công thức hồi quy\n",
    "\n",
    "$$\\text{Life expectancy} = 5.5573994*Schooling$$"
   ]
  },
  {
   "cell_type": "markdown",
   "metadata": {},
   "source": [
    "# Yêu cầu 1c: Sinh viên tự xây dựng mô hình, tìm mô hình cho kết quả tốt nhất (3 điểm)"
   ]
  },
  {
   "cell_type": "markdown",
   "metadata": {},
   "source": [
    "Lưu ý: khi sử dụng cross-validation, sinh viên cần xáo trộn dữ liệu 1 lần duy nhất và thực hiện trên toàn bộ $m$ mô hình mà sinh viên thiết kế"
   ]
  },
  {
   "cell_type": "markdown",
   "metadata": {},
   "source": [
    "# Normalize the dataset\n",
    "- Normalize the dataset to find feature importance\n",
    "- Find importance value for each feature based on coefficient and standard deviation\n",
    "- Scale that importance values in range of [0,100]"
   ]
  },
  {
   "cell_type": "code",
   "execution_count": null,
   "metadata": {
    "scrolled": true
   },
   "outputs": [],
   "source": [
    "# Find 3 features importance\n",
    "stdev = []\n",
    "x = train[[\"Adult Mortality\", \"BMI\", \"Polio\", \"Diphtheria\", \"HIV/AIDS\", \"GDP\", \"Thinness age 10-19\", \"Thinness age 5-9\",\n",
    "       \"Income composition of resources\", \"Schooling\"]]\n",
    "y = train[\"Life expectancy\"]\n",
    "\n",
    "lr = OLSLinearRegression().fit(X_train, y_train)\n",
    "\n",
    "lr_coef = lr.get_params() # get feature vector\n",
    "\n",
    "tables = pd.DataFrame(lr_coef, x.columns, columns=['coefficient'])\n",
    "tables.coefficient = tables.coefficient.abs()\n",
    "\n",
    "# Transforming the units of coefficients\n",
    "\n",
    "# calculate standard deviation for each feature\n",
    "stdeviations = []\n",
    "for i in x.columns:\n",
    "    stdev = train[i].std()\n",
    "    stdeviations.append(stdev)\n",
    "\n",
    "tables[\"standard_deviation\"] = np.array(stdeviations).reshape(-1,1)\n",
    "tables[\"importance\"] = tables[\"coefficient\"] * tables[\"standard_deviation\"]\n",
    "\n",
    "# normalize the importance column in range of [0, 100].\n",
    "tables['importance_normalized (0 - 100)'] = 100*tables['importance'] / tables['importance'].max()\n",
    "\n",
    "# display tables\n",
    "tables.head(10) "
   ]
  },
  {
   "cell_type": "markdown",
   "metadata": {},
   "source": [
    "# Find 4 features importance\n",
    "- Find indexes of 4 features importance\n",
    "- Use that indexes to retrieve columns of corresponding features\n",
    "- Building models based on the corresponding features"
   ]
  },
  {
   "cell_type": "code",
   "execution_count": null,
   "metadata": {},
   "outputs": [],
   "source": [
    "# convert importance_normalized to numpy array\n",
    "importance_rates = tables['importance_normalized (0 - 100)'].to_numpy()\n",
    "\n",
    "# find index of 4 features importance\n",
    "biggest_indexes = np.argpartition(importance_rates, -4)[-4:] # find 4 biggest value's index\n",
    "\n",
    "# find 4 most important features columns based on index\n",
    "indexes_labels = x.columns[biggest_indexes]\n",
    "\n",
    "# display table\n",
    "best_features_table = pd.DataFrame(importance_rates[biggest_indexes],indexes_labels, columns=['Importance (0-100)'])\n",
    "best_features_table[\"Index column\"] = biggest_indexes\n",
    "best_features_table.head()"
   ]
  },
  {
   "cell_type": "markdown",
   "metadata": {},
   "source": [
    "# Build model 1\n",
    "- 2 most important features: Schooling (9), Income composition of resources (8)"
   ]
  },
  {
   "cell_type": "code",
   "execution_count": null,
   "metadata": {},
   "outputs": [],
   "source": [
    "def Model_1(X_train_clone,y_train_clone):\n",
    "    \n",
    "    RMSE = 0 #initialize RMSE value\n",
    "\n",
    "    X_train_feature = np.concatenate([X_train_clone[:,9].reshape(-1,1),X_train_clone[:,8].reshape(-1,1)], axis = 1)\n",
    "    y_train_feature = y_train_clone.copy()\n",
    "\n",
    "    for k in range(0, 5):\n",
    "        lr = OLSLinearRegression()\n",
    "\n",
    "        # create test dataset\n",
    "        X_k_val = X_train_feature[217*k:217*k + 217,:]\n",
    "        y_k_val = y_train_feature[217*k:217*k + 217]\n",
    "\n",
    "        # create training dataset\n",
    "        if(k == 0):  \n",
    "            X_k_train = X_train_feature[217:,:] # find x_k_train\n",
    "            y_k_train = y_train_feature[217:] # find y_k_train\n",
    "\n",
    "        else: \n",
    "            # find x_k_train\n",
    "            X_k_train_1 = X_train_feature[0:217*k,:]\n",
    "            X_k_train_2 = X_train_feature[217*k + 217:,:]\n",
    "            X_k_train = np.concatenate((X_k_train_1,X_k_train_2), axis = 0)\n",
    "\n",
    "            # find y_k_train\n",
    "            y_k_train_1 = y_train_feature[0:217*k]\n",
    "            y_k_train_2 = y_train_feature[217*k + 217:]\n",
    "            y_k_train = np.concatenate((y_k_train_1,y_k_train_2), axis = 0)\n",
    "\n",
    "        # training\n",
    "        lr.fit(X_k_train, y_k_train)\n",
    "        # predict\n",
    "        y_k_val_pred = lr.predict(X_k_val)\n",
    "        # calculate RMSE k_th\n",
    "        RMSE += rmse(y_k_val, y_k_val_pred)\n",
    "    # calculate mean RMSE\n",
    "    return RMSE / 5\n"
   ]
  },
  {
   "cell_type": "markdown",
   "metadata": {},
   "source": [
    "# Build model 2\n",
    "- 3 most important features: Schooling (9), Income composition of resources (8), Thinness age 10-19 (6)"
   ]
  },
  {
   "cell_type": "code",
   "execution_count": null,
   "metadata": {},
   "outputs": [],
   "source": [
    "def Model_2(X_train_clone, y_train_clone):\n",
    "    RMSE = 0 #initialize RMSE value\n",
    "\n",
    "    X_train_feature = np.concatenate([X_train_clone[:,9].reshape(-1,1),\n",
    "            X_train_clone[:,8].reshape(-1,1),X_train_clone[:,6].reshape(-1,1)], axis = 1)\n",
    "    y_train_feature = y_train_clone.copy()\n",
    "\n",
    "    for k in range(0, 5):\n",
    "        lr = OLSLinearRegression()\n",
    "\n",
    "        # create test dataset\n",
    "        X_k_val = X_train_feature[217*k:217*k + 217,:]\n",
    "        y_k_val = y_train_feature[217*k:217*k + 217]\n",
    "\n",
    "        # create training dataset\n",
    "        if(k == 0):  \n",
    "            X_k_train = X_train_feature[217:,:] # find x_k_train\n",
    "            y_k_train = y_train_feature[217:] # find y_k_train\n",
    "\n",
    "        else: \n",
    "            # find x_k_train\n",
    "            X_k_train_1 = X_train_feature[0:217*k,:]\n",
    "            X_k_train_2 = X_train_feature[217*k + 217:,:]\n",
    "            X_k_train = np.concatenate((X_k_train_1,X_k_train_2), axis = 0)\n",
    "\n",
    "            # find y_k_train\n",
    "            y_k_train_1 = y_train_feature[0:217*k]\n",
    "            y_k_train_2 = y_train_feature[217*k + 217:]\n",
    "            y_k_train = np.concatenate((y_k_train_1,y_k_train_2), axis = 0)\n",
    "\n",
    "        # training\n",
    "        lr.fit(X_k_train, y_k_train)\n",
    "        # predict\n",
    "        y_k_val_pred = lr.predict(X_k_val)\n",
    "        # calculate RMSE k_th\n",
    "        RMSE += rmse(y_k_val, y_k_val_pred)\n",
    "    # calculate mean RMSE \n",
    "    return RMSE / 5\n"
   ]
  },
  {
   "cell_type": "markdown",
   "metadata": {},
   "source": [
    "# Build model 3\n",
    "- 4 most important features: Schooling (9), Income composition of resources (8), Thinness age 10-19 (6), Diphtheria (3)"
   ]
  },
  {
   "cell_type": "code",
   "execution_count": null,
   "metadata": {},
   "outputs": [],
   "source": [
    "def Model_3(X_train_clone, y_train_clone):\n",
    "\n",
    "    RMSE = 0 #initialize RMSE value\n",
    "\n",
    "    X_train_feature = np.concatenate([X_train_clone[:,9].reshape(-1,1),\n",
    "            X_train_clone[:,8].reshape(-1,1),X_train_clone[:,6].reshape(-1,1),X_train_clone[:,3].reshape(-1,1)], axis = 1)\n",
    "    y_train_feature = y_train_clone.copy()\n",
    "\n",
    "    for k in range(0, 5):\n",
    "        lr = OLSLinearRegression()\n",
    "\n",
    "        # create test dataset\n",
    "        X_k_val = X_train_feature[217*k:217*k + 217,:]\n",
    "        y_k_val = y_train_feature[217*k:217*k + 217]\n",
    "\n",
    "        # create training dataset\n",
    "        if(k == 0):  \n",
    "            X_k_train = X_train_feature[217:,:] # find x_k_train\n",
    "            y_k_train = y_train_feature[217:] # find y_k_train\n",
    "\n",
    "        else: \n",
    "            # find x_k_train\n",
    "            X_k_train_1 = X_train_feature[0:217*k,:]\n",
    "            X_k_train_2 = X_train_feature[217*k + 217:,:]\n",
    "            X_k_train = np.concatenate((X_k_train_1,X_k_train_2), axis = 0)\n",
    "\n",
    "            # find y_k_train\n",
    "            y_k_train_1 = y_train_feature[0:217*k]\n",
    "            y_k_train_2 = y_train_feature[217*k + 217:]\n",
    "            y_k_train = np.concatenate((y_k_train_1,y_k_train_2), axis = 0)\n",
    "\n",
    "        # training\n",
    "        lr.fit(X_k_train, y_k_train)\n",
    "        # predict\n",
    "        y_k_val_pred = lr.predict(X_k_val)\n",
    "        # calculate RMSE k_th\n",
    "        RMSE += rmse(y_k_val, y_k_val_pred)\n",
    "    # calculate mean RMSE\n",
    "    return RMSE / 5\n"
   ]
  },
  {
   "cell_type": "markdown",
   "metadata": {},
   "source": [
    "# Build model 4\n",
    "- 4 features (with new feature added): Schooling (9), Income composition of resources (8), Thinness age 10-19 (6), Vaccination rate among 1-year-olds (10)"
   ]
  },
  {
   "cell_type": "markdown",
   "metadata": {},
   "source": [
    "# Create new feature Vaccination rate among 1-year-olds\n"
   ]
  },
  {
   "cell_type": "code",
   "execution_count": null,
   "metadata": {},
   "outputs": [],
   "source": [
    "def reportNewFeature(X_train_clone, y_train_clone):\n",
    "    # create new feature Vaccination_rate_1_year_olds based on Polio and Diphtheria\n",
    "    new_feature = (X_train_clone[:,2] + X_train_clone[:,3]) / 2\n",
    "\n",
    "    X_train_clone = np.append(X_train_clone, new_feature.reshape(-1,1), axis = 1)\n",
    "\n",
    "    lr = OLSLinearRegression().fit(X_train_clone, y_train_clone)\n",
    "\n",
    "    # create report table\n",
    "    dict = {'Features' : [\"Adult Mortality\", \"BMI\", \"Polio\", \"Diphtheria\", \"HIV/AIDS\", \"GDP\", \"Thinness age 10-19\", \"Thinness age 5-9\",\n",
    "           \"Income composition of resources\", \"Schooling\", \"Vaccination rate 1-year-olds\"],\n",
    "            'coeff' : lr.get_params()\n",
    "           }\n",
    "\n",
    "    df = pd.DataFrame(dict)\n",
    "    df['coeff'] = df['coeff'].abs()\n",
    "\n",
    "    # calcualte standard deviation for each feature\n",
    "    stdeviations = []\n",
    "    for i in range(0,11):\n",
    "        stdev = np.std(X_train_clone[:,i])\n",
    "        stdeviations.append(stdev)\n",
    "\n",
    "    df[\"std\"] = np.array(stdeviations).reshape(-1,1)\n",
    "    # normalize the importance column in range of [0, 100].\n",
    "    df['importance'] = 100*(df[\"coeff\"] * df[\"std\"]) / (df[\"coeff\"] * df[\"std\"]).max()\n",
    "    print(df)\n",
    "\n",
    "\n",
    "# make deep copy\n",
    "X_train_clone = copy.deepcopy(X_train)\n",
    "y_train_clone = copy.deepcopy(y_train)\n",
    "\n",
    "# print report\n",
    "print(\"Report new feature: \")\n",
    "reportNewFeature(X_train_clone, y_train_clone)\n",
    "    "
   ]
  },
  {
   "cell_type": "code",
   "execution_count": null,
   "metadata": {},
   "outputs": [],
   "source": [
    "def Model_4(X_train_clone, y_train_clone):\n",
    "    # create new feature based on Polio And dipl\n",
    "    new_feature = (X_train_clone[:,2] + X_train_clone[:,3]) / 2\n",
    "\n",
    "    X_train_clone = np.append(X_train_clone, new_feature.reshape(-1,1), axis = 1)\n",
    "\n",
    "    lr = OLSLinearRegression().fit(X_train_clone, y_train_clone)\n",
    "\n",
    "\n",
    "    RMSE = 0 #initialize RMSE value\n",
    "\n",
    "    # create X_train_feature, y_train_feature\n",
    "    X_train_feature = np.concatenate([X_train_clone[:,9].reshape(-1,1),\n",
    "            X_train_clone[:,8].reshape(-1,1),X_train_clone[:,6].reshape(-1,1),\n",
    "            X_train_clone[:,10].reshape(-1,1)], axis = 1)\n",
    "   \n",
    "    y_train_feature = y_train_clone.copy()\n",
    "\n",
    "    for k in range(0, 5):\n",
    "        lr = OLSLinearRegression()\n",
    "\n",
    "        # create test dataset\n",
    "        X_k_val = X_train_feature[217*k:217*k + 217,:]\n",
    "        y_k_val = y_train_feature[217*k:217*k + 217]\n",
    "\n",
    "        # create training dataset\n",
    "        if(k == 0):  \n",
    "            X_k_train = X_train_feature[217:,:] # find x_k_train\n",
    "            y_k_train = y_train_feature[217:] # find y_k_train\n",
    "\n",
    "        else: \n",
    "            # find x_k_train\n",
    "            X_k_train_1 = X_train_feature[0:217*k,:]\n",
    "            X_k_train_2 = X_train_feature[217*k + 217:,:]\n",
    "            X_k_train = np.concatenate((X_k_train_1,X_k_train_2), axis = 0)\n",
    "\n",
    "            # find y_k_train\n",
    "            y_k_train_1 = y_train_feature[0:217*k]\n",
    "            y_k_train_2 = y_train_feature[217*k + 217:]\n",
    "            y_k_train = np.concatenate((y_k_train_1,y_k_train_2), axis = 0)\n",
    "\n",
    "        # training\n",
    "        lr.fit(X_k_train, y_k_train)\n",
    "        # predict\n",
    "        y_k_val_pred = lr.predict(X_k_val)\n",
    "        # calculate RMSE k_th\n",
    "        RMSE += rmse(y_k_val, y_k_val_pred)\n",
    "    # calculate mean rmse i_th\n",
    "    return RMSE / 5\n"
   ]
  },
  {
   "cell_type": "code",
   "execution_count": null,
   "metadata": {},
   "outputs": [],
   "source": [
    "# Phần code cho yêu cầu 1c\n",
    "# Tìm ra mô hình tốt nhất (tự thiết kế bởi sinh viên)\n",
    "# In ra các kết quả cross-validation như yêu cầu\n",
    "\n",
    "# make deep copy\n",
    "X_train_clone = copy.deepcopy(X_train)\n",
    "y_train_clone = copy.deepcopy(y_train)\n",
    "\n",
    "# shuffle dataset once\n",
    "shuffler = np.random.permutation(len(X_train_clone))\n",
    "X_train_clone = X_train_clone[shuffler]\n",
    "y_train_clone  = y_train_clone[shuffler]\n",
    "\n",
    "# test on all models\n",
    "firstModel = Model_1(X_train_clone, y_train_clone)\n",
    "secondModel = Model_2(X_train_clone, y_train_clone)\n",
    "thirdModel = Model_3(X_train_clone, y_train_clone)\n",
    "fourthModel = Model_4(X_train_clone, y_train_clone)\n",
    "\n",
    "# print result\n",
    "print(\"RMSE of first model: \", firstModel)\n",
    "print(\"RMSE of second model: \", secondModel)\n",
    "print(\"RMSE of third model: \", thirdModel)\n",
    "print(\"RMSE of fourth model: \", fourthModel)\n",
    "print(\"Cross-validation: \", [firstModel,secondModel,thirdModel,fourthModel])"
   ]
  },
  {
   "cell_type": "code",
   "execution_count": null,
   "metadata": {},
   "outputs": [],
   "source": [
    "# Huấn luyện lại mô hình my_best_model trên toàn bộ tập huấn luyện\n",
    "X_best_model = np.concatenate([X_train[:,9].reshape(-1,1),\n",
    "            X_train[:,8].reshape(-1,1),X_train[:,6].reshape(-1,1),X_train[:,3].reshape(-1,1)], axis = 1)\n",
    "lr = OLSLinearRegression().fit(X_best_model, y_train)\n",
    "\n",
    "# print feature vector\n",
    "print(\"Feature vectors W: \", lr.get_params())"
   ]
  },
  {
   "cell_type": "code",
   "execution_count": null,
   "metadata": {},
   "outputs": [],
   "source": [
    "# Gọi hàm RMSE (tự cài đặt hoặc từ thư viện) trên tập kiểm tra với mô hình my_best_model\n",
    "X_test_best_model = np.concatenate([X_test[:,9].reshape(-1,1),\n",
    "            X_test[:,8].reshape(-1,1),X_test[:,6].reshape(-1,1),X_test[:,3].reshape(-1,1)], axis = 1)\n",
    "\n",
    "y_test_predict_best_model = lr.predict(X_test_best_model)\n",
    "\n",
    "# print result\n",
    "print(\"RMSE on my best model: \", rmse(y_test, y_test_predict_best_model))"
   ]
  },
  {
   "cell_type": "markdown",
   "metadata": {},
   "source": [
    "Công thức hồi quy\n",
    "\n",
    "$$\\text{Life expectancy} = 2.39 * Schooling + 29.55 * IncomeCompositionOfResource + 0.93 * ThinnessAge(10-19) + 0.19 * Diphtheria$$"
   ]
  }
 ],
 "metadata": {
  "kernelspec": {
   "display_name": "Python 3 (ipykernel)",
   "language": "python",
   "name": "python3"
  },
  "language_info": {
   "codemirror_mode": {
    "name": "ipython",
    "version": 3
   },
   "file_extension": ".py",
   "mimetype": "text/x-python",
   "name": "python",
   "nbconvert_exporter": "python",
   "pygments_lexer": "ipython3",
   "version": "3.9.12"
  },
  "vscode": {
   "interpreter": {
    "hash": "9ed98053d0cbb40e87837c90a21c47b008a5c5d935ef522e34b6baa7f3639f23"
   }
  }
 },
 "nbformat": 4,
 "nbformat_minor": 2
}
